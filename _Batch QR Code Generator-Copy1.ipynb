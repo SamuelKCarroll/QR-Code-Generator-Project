{
 "cells": [
  {
   "cell_type": "code",
   "execution_count": 7,
   "id": "f1f9e999",
   "metadata": {},
   "outputs": [],
   "source": [
    "#Need to pip install segno first\n",
    "import segno\n",
    "import os"
   ]
  },
  {
   "cell_type": "code",
   "execution_count": 8,
   "id": "38675eb2",
   "metadata": {},
   "outputs": [],
   "source": [
    "#Text to encode into QR Code\n",
    "data = \"My QR Code Text\"\n",
    "\n",
    "#A list to hold text\n",
    "itemList = [\"\"]*20\n",
    "\n",
    "#A list to hold item number\n",
    "numList = range(20)"
   ]
  },
  {
   "cell_type": "code",
   "execution_count": 9,
   "id": "b2d72d65",
   "metadata": {},
   "outputs": [],
   "source": [
    "\n",
    "\n",
    "#Create a list of QR codes\n",
    "for x in range(20):\n",
    "       \n",
    "    newData = (\"My QR Code Text with a sequential number appended to it %s%s\" % (data,numList[x]))\n",
    "    newQr = segno.make_qr(newData)\n",
    "    itemList[x] = newQr\n",
    "    x = x + 1\n",
    "\n",
    "#Create a dictionary and its keys   \n",
    "keys = range(20)\n",
    "itemDict = {}\n",
    "\n",
    "\n",
    "#populate the dictionary with qr codes\n",
    "for i in keys:\n",
    "    itemDict[i] = itemList[i]\n",
    "\n",
    "#Save each qr code in a sequentially numbered file.  \n",
    "for i in keys:\n",
    "     itemDict[i].save(\"My QR Code File %s.png\"% numList[i],scale=3.0) \n",
    "   "
   ]
  },
  {
   "cell_type": "code",
   "execution_count": null,
   "id": "e3c68c22",
   "metadata": {},
   "outputs": [],
   "source": []
  },
  {
   "cell_type": "code",
   "execution_count": 9,
   "id": "4d6f47bf",
   "metadata": {},
   "outputs": [],
   "source": []
  },
  {
   "cell_type": "code",
   "execution_count": 10,
   "id": "cd2f22ce",
   "metadata": {},
   "outputs": [],
   "source": []
  }
 ],
 "metadata": {
  "kernelspec": {
   "display_name": "Python 3 (ipykernel)",
   "language": "python",
   "name": "python3"
  },
  "language_info": {
   "codemirror_mode": {
    "name": "ipython",
    "version": 3
   },
   "file_extension": ".py",
   "mimetype": "text/x-python",
   "name": "python",
   "nbconvert_exporter": "python",
   "pygments_lexer": "ipython3",
   "version": "3.9.7"
  }
 },
 "nbformat": 4,
 "nbformat_minor": 5
}
